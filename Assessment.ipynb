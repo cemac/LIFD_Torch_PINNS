{
 "cells": [
  {
   "cell_type": "markdown",
   "id": "1088b509-d7e9-4587-a138-8165507a38d5",
   "metadata": {},
   "source": [
    "<div style=\"background-color: #ccffcc; padding: 10px;\">\n",
    "    <h1> Mini project: Physics informed neural networks </h1> \n",
    "</div>   "
   ]
  },
  {
   "cell_type": "markdown",
   "id": "b6b8f17b-2cde-41b8-82e7-1921efe99923",
   "metadata": {},
   "source": [
    "In this assessed mini project, you will investigate and reflect on fundamental aspects of physics-informed neural networks applied to the reconstruction of 2D flow past a cylinder (based on the PINNs notebook). There are 20 marks in total over 5 questions.\n",
    "\n",
    "This is an Amber category assessment in reference to traffic light system for using Gen-AI tools. In this regards, Microsoft Co-pilot can be used through university Microsoft accounts to help in coming up with ideas, inspiration or general framework, as well as being an assistive tool in debugging the codes, but the final work you submit needs to be your own original work and you need to take the full responsibility of the submission originality. In case the suggested assistive AI tool is used, please provide the list of prompts in the disclaimer section at the bottom this notebook for future references."
   ]
  },
  {
   "cell_type": "markdown",
   "id": "88caa3ef-bb01-47fe-baca-61554db7d9d1",
   "metadata": {},
   "source": [
    "Copy and paste the relevant code from the first part of the Navier-Stokes PINNs notebook, to model the **noise-free** reconstructed 2D flow past a cylinder.\n",
    "\n",
    "The calculated model depends on the parameters that define how the model is configured and how it is trained. In the following 5 tasks, you will investigate how some of these choices affect the solution.\n",
    "\n",
    "1. Reduce the number of hidden layers to 1 (for computational expediency). Do the following three times: \n",
    "\n",
    "- reinitialise the network\n",
    "- retrain the network\n",
    "\n",
    "Do you find the same result? If not, why not, and what does this mean for the value you end up reporting for your trained network? [**4**]\n",
    "   \n",
    "2a.  The notebook used an 8-layer network (similar to the [original published study](https://arxiv.org/abs/1711.10566) of 9-layers with 20 neurons per layer).  Construct other models with different numbers of hidden layers each with 20 neurons per layer (for example: 1,2,4,6 layers). Investigate and report the error at a snapshot in time in u, v, p and $\\lambda_2$ as a function of the number of layers.  [**4**]\n",
    "\n",
    "2b. Which quantities are most sensitive to the network size, and why might this be? What size of network would you recommend based on your results? [**4**]\n",
    "\n",
    "3a. The notebook assumes that the total loss function is equally weighted between the data loss and the physics loss. Using notebook 2 as a template, modify the code to include a parameter $\\mu$ so that you can adjust the weighting as:\n",
    "$ L_{total} = L_{data} + \\mu L_{physics}$  [**2**]\n",
    "\n",
    "3b. Using a modest size of network (say 3 hidden layers): investigate, report and reflect on what happens when you train with $\\mu = 10^{-4}$ and $\\mu = 10^4$. Comment on the reproducibility of the hidden variable $p$ with these choices. [**6**]\n"
   ]
  },
  {
   "cell_type": "markdown",
   "id": "81663726-1891-4d96-aef9-76f8e9f3ccf7",
   "metadata": {},
   "source": [
    "<div style=\"background-color: #ccffcc; padding: 10px;\">\n",
    "\n",
    "# Disclaimer\n",
    "Please use this space to provide the list of prompts given to Microsoft co-pilot if Gen-AI is used as an assistive tool.\n",
    "\n",
    "</div>"
   ]
  },
  {
   "cell_type": "code",
   "execution_count": null,
   "id": "ac9581e5-a00e-4a1d-b3f2-3163c4f285e7",
   "metadata": {},
   "outputs": [],
   "source": []
  }
 ],
 "metadata": {
  "kernelspec": {
   "display_name": "Python 3 (ipykernel)",
   "language": "python",
   "name": "python3"
  },
  "language_info": {
   "codemirror_mode": {
    "name": "ipython",
    "version": 3
   },
   "file_extension": ".py",
   "mimetype": "text/x-python",
   "name": "python",
   "nbconvert_exporter": "python",
   "pygments_lexer": "ipython3",
   "version": "3.11.10"
  }
 },
 "nbformat": 4,
 "nbformat_minor": 5
}
